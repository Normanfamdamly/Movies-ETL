{
 "cells": [
  {
   "cell_type": "code",
   "execution_count": 2,
   "id": "0691c731",
   "metadata": {},
   "outputs": [],
   "source": [
    "import pandas as pd\n",
    "\n",
    "# File to Load (Remember to change these)\n",
    "movies_metadata_to_load = 'movies_metadata.csv'\n",
    "\n",
    "\n",
    "# Read the City and Ride Data\n",
    "movies_metadata_df = pd.read_fwf(movies_metadata_to_load)\n"
   ]
  },
  {
   "cell_type": "code",
   "execution_count": 3,
   "id": "e8962efc",
   "metadata": {},
   "outputs": [
    {
     "data": {
      "text/plain": [
       "adult,belongs_to_collection,budget,genres,homepage,id,imdb_id,original_language,original_title,overview,popularity,poster_path,production_companies,production_countries,release_date,revenue,runtime,spoken_languages,status,tagline,title,video,vote_average,vote_count    object\n",
       "Unnamed: 1                                                                                                                                                                                                                                                                   object\n",
       "Unnamed: 2                                                                                                                                                                                                                                                                   object\n",
       "Unnamed: 3                                                                                                                                                                                                                                                                   object\n",
       "Unnamed: 4                                                                                                                                                                                                                                                                   object\n",
       "Unnamed: 5                                                                                                                                                                                                                                                                   object\n",
       "Unnamed: 6                                                                                                                                                                                                                                                                   object\n",
       "Unnamed: 7                                                                                                                                                                                                                                                                   object\n",
       "Unnamed: 8                                                                                                                                                                                                                                                                   object\n",
       "Unnamed: 9                                                                                                                                                                                                                                                                   object\n",
       "Unnamed: 10                                                                                                                                                                                                                                                                  object\n",
       "Unnamed: 11                                                                                                                                                                                                                                                                  object\n",
       "Unnamed: 12                                                                                                                                                                                                                                                                  object\n",
       "Unnamed: 13                                                                                                                                                                                                                                                                  object\n",
       "Unnamed: 14                                                                                                                                                                                                                                                                  object\n",
       "Unnamed: 15                                                                                                                                                                                                                                                                  object\n",
       "Unnamed: 16                                                                                                                                                                                                                                                                  object\n",
       "Unnamed: 17                                                                                                                                                                                                                                                                  object\n",
       "Unnamed: 18                                                                                                                                                                                                                                                                  object\n",
       "Unnamed: 19                                                                                                                                                                                                                                                                  object\n",
       "Unnamed: 20                                                                                                                                                                                                                                                                  object\n",
       "dtype: object"
      ]
     },
     "execution_count": 3,
     "metadata": {},
     "output_type": "execute_result"
    }
   ],
   "source": [
    "movies_metadata_df.dtypes"
   ]
  },
  {
   "cell_type": "code",
   "execution_count": null,
   "id": "7fdc4ff5",
   "metadata": {},
   "outputs": [],
   "source": []
  }
 ],
 "metadata": {
  "kernelspec": {
   "display_name": "Python 3 (ipykernel)",
   "language": "python",
   "name": "python3"
  },
  "language_info": {
   "codemirror_mode": {
    "name": "ipython",
    "version": 3
   },
   "file_extension": ".py",
   "mimetype": "text/x-python",
   "name": "python",
   "nbconvert_exporter": "python",
   "pygments_lexer": "ipython3",
   "version": "3.7.13"
  }
 },
 "nbformat": 4,
 "nbformat_minor": 5
}
